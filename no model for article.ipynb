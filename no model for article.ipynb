{
 "cells": [
  {
   "cell_type": "code",
   "execution_count": 765,
   "id": "545b97d2",
   "metadata": {},
   "outputs": [
    {
     "name": "stdout",
     "output_type": "stream",
     "text": [
      "Requirement already satisfied: sklearn-pandas in c:\\users\\xiaoz\\anaconda3\\lib\\site-packages (2.2.0)\n",
      "Requirement already satisfied: numpy>=1.18.1 in c:\\users\\xiaoz\\anaconda3\\lib\\site-packages (from sklearn-pandas) (1.20.3)\n",
      "Requirement already satisfied: scikit-learn>=0.23.0 in c:\\users\\xiaoz\\anaconda3\\lib\\site-packages (from sklearn-pandas) (0.24.2)\n",
      "Requirement already satisfied: scipy>=1.5.1 in c:\\users\\xiaoz\\anaconda3\\lib\\site-packages (from sklearn-pandas) (1.7.1)\n",
      "Requirement already satisfied: pandas>=1.1.4 in c:\\users\\xiaoz\\anaconda3\\lib\\site-packages (from sklearn-pandas) (1.3.4)\n",
      "Requirement already satisfied: pytz>=2017.3 in c:\\users\\xiaoz\\anaconda3\\lib\\site-packages (from pandas>=1.1.4->sklearn-pandas) (2021.3)\n",
      "Requirement already satisfied: python-dateutil>=2.7.3 in c:\\users\\xiaoz\\anaconda3\\lib\\site-packages (from pandas>=1.1.4->sklearn-pandas) (2.8.2)\n",
      "Requirement already satisfied: six>=1.5 in c:\\users\\xiaoz\\anaconda3\\lib\\site-packages (from python-dateutil>=2.7.3->pandas>=1.1.4->sklearn-pandas) (1.16.0)\n",
      "Requirement already satisfied: joblib>=0.11 in c:\\users\\xiaoz\\anaconda3\\lib\\site-packages (from scikit-learn>=0.23.0->sklearn-pandas) (1.1.0)\n",
      "Requirement already satisfied: threadpoolctl>=2.0.0 in c:\\users\\xiaoz\\anaconda3\\lib\\site-packages (from scikit-learn>=0.23.0->sklearn-pandas) (2.2.0)\n"
     ]
    }
   ],
   "source": [
    "! pip install sklearn-pandas\n",
    "import numpy as np\n",
    "import matplotlib.pyplot as plt\n",
    "import pandas as pd\n",
    "# For preprocessing\n",
    "from sklearn.preprocessing import StandardScaler\n",
    "from sklearn_pandas import DataFrameMapper \n",
    "\n",
    "import torch # For building the networks \n",
    "import torchtuples as tt # Some useful functions\n",
    "# change pycox import datasets and df= read.csv\n",
    "\n",
    "df_train=pd.read_csv('D:/UNOS_NEW/no_dephit_train_cindex7.csv', sep=',')\n",
    "df_test=pd.read_csv('D:/UNOS_NEW/no_dephit_test_cindex7.csv', sep=',')\n",
    "df_val=pd.read_csv('D:/UNOS_NEW/no_dephit_val_cindex7.csv', sep=',')\n",
    "from pycox.models import DeepHitSingle\n",
    "from pycox.evaluation import EvalSurv\n",
    "## Uncomment to install `sklearn-pandas`\n",
    "# ! pip install sklearn-pandas\n",
    "np.random.seed(1234)\n",
    "_ = torch.manual_seed(123)\n",
    "\n",
    "df_train['AGE']=df_train['AGE'].astype('float32')\n",
    "df_train['TX_YEAR']=df_train['TX_YEAR'].astype('float32')\n",
    "df_train['DIAG']=df_train['DIAG'].astype('float32')\n",
    "df_train['HCV_SEROSTATUS']=df_train['HCV_SEROSTATUS'].astype('float32')\n",
    "df_train['AGE_DON']=df_train['AGE_DON'].astype('float32')\n",
    "df_train['WORK_INCOME_TRR']=df_train['WORK_INCOME_TRR'].astype('float32')\n",
    "df_train['CREAT_TX']=df_train['CREAT_TX'].astype('float32')\n",
    "df_train['MED_COND_TRR']=df_train['MED_COND_TRR'].astype('float32')\n",
    "df_train['LIF_SUP_TRR']=df_train['LIF_SUP_TRR'].astype('float32')\n",
    "df_train['HIST_HYPERTENS_DON']=df_train['HIST_HYPERTENS_DON'].astype('float32')                                 \n",
    "df_train['DAYSWAIT_CHRON']=df_train['DAYSWAIT_CHRON'].astype('float32')                                 \n",
    "df_train['duration']=df_train['duration'].astype('float32')\n",
    "df_train['event']=df_train['event'].astype('int32')\n",
    "\n",
    "df_test['AGE']=df_test['AGE'].astype('float32')\n",
    "df_test['TX_YEAR']=df_test['TX_YEAR'].astype('float32')\n",
    "df_test['DIAG']=df_test['DIAG'].astype('float32')\n",
    "df_test['HCV_SEROSTATUS']=df_test['HCV_SEROSTATUS'].astype('float32')\n",
    "df_test['AGE_DON']=df_test['AGE_DON'].astype('float32')\n",
    "df_test['WORK_INCOME_TRR']=df_test['WORK_INCOME_TRR'].astype('float32')\n",
    "df_test['CREAT_TX']=df_test['CREAT_TX'].astype('float32')\n",
    "df_test['MED_COND_TRR']=df_test['MED_COND_TRR'].astype('float32')\n",
    "df_test['LIF_SUP_TRR']=df_test['LIF_SUP_TRR'].astype('float32')\n",
    "df_test['HIST_HYPERTENS_DON']=df_test['HIST_HYPERTENS_DON'].astype('float32')                                 \n",
    "df_test['DAYSWAIT_CHRON']=df_test['DAYSWAIT_CHRON'].astype('float32')                                 \n",
    "df_test['duration']=df_test['duration'].astype('float32')\n",
    "df_test['event']=df_test['event'].astype('int32')\n",
    " \n",
    "df_val['AGE']=df_val['AGE'].astype('float32')\n",
    "df_val['TX_YEAR']=df_val['TX_YEAR'].astype('float32')\n",
    "df_val['DIAG']=df_val['DIAG'].astype('float32')\n",
    "df_val['HCV_SEROSTATUS']=df_val['HCV_SEROSTATUS'].astype('float32')\n",
    "df_val['AGE_DON']=df_val['AGE_DON'].astype('float32')\n",
    "df_val['WORK_INCOME_TRR']=df_val['WORK_INCOME_TRR'].astype('float32')\n",
    "df_val['CREAT_TX']=df_val['CREAT_TX'].astype('float32')\n",
    "df_val['MED_COND_TRR']=df_val['MED_COND_TRR'].astype('float32')\n",
    "df_val['LIF_SUP_TRR']=df_val['LIF_SUP_TRR'].astype('float32')\n",
    "df_val['HIST_HYPERTENS_DON']=df_val['HIST_HYPERTENS_DON'].astype('float32')                                 \n",
    "df_val['DAYSWAIT_CHRON']=df_val['DAYSWAIT_CHRON'].astype('float32')                                 \n",
    "df_val['duration']=df_val['duration'].astype('float32')\n",
    "df_val['event']=df_val['event'].astype('int32') "
   ]
  },
  {
   "cell_type": "code",
   "execution_count": 766,
   "id": "fd10757f",
   "metadata": {},
   "outputs": [],
   "source": [
    "import numpy as np\n",
    "import pandas as pd\n",
    "\n",
    "class OrderedCategoricalLong:\n",
    "    \"\"\"Transform pandas series or numpy array to categorical, and get (long) values,\n",
    "    i.e. index of category. Useful for entity embeddings.\n",
    "    Zero is reserved for unknown categories or nans.\n",
    "    Keyword Arguments:\n",
    "        min_per_category {int} -- Number of instances required to not be set to nan (default: {20})\n",
    "        return_series {bool} -- If return a array or pd.Series (default: {False})\n",
    "    \n",
    "    Returns:\n",
    "        [pd.Series] -- Series with long values reffering to categories.\n",
    "    \"\"\"\n",
    "    def __init__(self, min_per_category=20, return_series=False):\n",
    "        \n",
    "        self.min_per_category = min_per_category\n",
    "        self.return_series = return_series\n",
    "\n",
    "    def fit(self, series, y=None):\n",
    "        series = pd.Series(series).copy()\n",
    "        smaller = series.value_counts() < self.min_per_category\n",
    "        values = smaller[smaller].index.values\n",
    "        for v in values:\n",
    "            series[series == v] = np.nan\n",
    "        self.categories = series.astype('category').cat.categories\n",
    "        return self\n",
    "    \n",
    "    def transform(self, series, y=None):\n",
    "        series = pd.Series(series).copy()\n",
    "        transformed = pd.Categorical(series, categories=self.categories, ordered=True)\n",
    "        transformed = pd.Series(transformed, index=series.index)\n",
    "        transformed = transformed.cat.codes.astype('int64') + 1\n",
    "        return transformed if self.return_series else transformed.values\n",
    "    \n",
    "    def fit_transform(self, series, y=None):\n",
    "        return self.fit(series, y).transform(series, y)\n",
    "cols_std = ['AGE','AGE_DON', 'CREAT_TX','DAYSWAIT_CHRON'] # numeric variables\n",
    "cols_bin = ['LIF_SUP_TRR'] # binary variables\n",
    "cols_cat = ['TX_YEAR','DIAG','HCV_SEROSTATUS','WORK_INCOME_TRR','MED_COND_TRR','HIST_HYPERTENS_DON'] # categorical variables\n",
    "\n",
    "\n",
    "standardize = [([col], StandardScaler()) for col in cols_std]\n",
    "leave = [(col, None) for col in cols_bin]\n",
    "categorical = [(col, OrderedCategoricalLong()) for col in cols_cat]\n",
    "\n",
    "x_mapper_float = DataFrameMapper(standardize + leave)\n",
    "x_mapper_long = DataFrameMapper(categorical)  # we need a separate mapper to convert data to 'int64'\n",
    "\n",
    "x_fit_transform = lambda df: tt.tuplefy(x_mapper_float.fit_transform(df), x_mapper_long.fit_transform(df))\n",
    "x_transform = lambda df: tt.tuplefy(x_mapper_float.transform(df), x_mapper_long.transform(df))\n",
    "\n",
    "x_train = x_fit_transform(df_train)\n",
    "x_val = x_transform(df_val)\n",
    "x_test = x_transform(df_test)"
   ]
  },
  {
   "cell_type": "code",
   "execution_count": 767,
   "id": "b038e723",
   "metadata": {},
   "outputs": [
    {
     "data": {
      "image/png": "[encoded data removed]",
      "text/plain": [
       "<Figure size 432x288 with 1 Axes>"
      ]
     },
     "metadata": {
      "needs_background": "light"
     },
     "output_type": "display_data"
    }
   ],
   "source": [
    "num_durations = 10\n",
    "scheme = 'equidistant' # or quantiles\n",
    "labtrans = DeepHitSingle.label_transform(num_durations, scheme)\n",
    "get_target = lambda df: (df['duration'].values, df['event'].values)\n",
    "y_train = labtrans.fit_transform(*get_target(df_train))\n",
    "y_val = labtrans.transform(*get_target(df_val))\n",
    "\n",
    "train = (x_train, y_train)\n",
    "val = (x_val, y_val)\n",
    "\n",
    "# We don't need to transform the test labels\n",
    "durations_test, events_test = get_target(df_test)\n",
    "\n",
    "# Plotting discrete intervals\n",
    "from pycox.utils import kaplan_meier\n",
    "plt.vlines(labtrans.cuts, 0, 1, colors='black', linestyles=\"--\", label='Discretization Grid')\n",
    "kaplan_meier(*get_target(df_train)).plot(label='Kaplan-Meier')\n",
    "plt.ylabel('S(t)')\n",
    "plt.legend()\n",
    "_ = plt.xlabel('Time')"
   ]
  },
  {
   "cell_type": "code",
   "execution_count": 768,
   "id": "db5286b0",
   "metadata": {},
   "outputs": [],
   "source": [
    "num_embeddings = x_train[1].max(0) + 1\n",
    "embedding_dims = num_embeddings // 2\n",
    "\n",
    "in_features = x_train[0].shape[1]\n",
    "out_features = labtrans.out_features\n",
    "num_nodes = [96,96]\n",
    "batch_norm = True\n",
    "dropout = 0.4\n",
    "\n",
    "net = tt.practical.MixedInputMLP(in_features, num_embeddings, embedding_dims,\n",
    "                                 num_nodes, out_features, batch_norm, dropout)\n",
    "                                 \n",
    "optimizer = tt.optim.AdamWR(decoupled_weight_decay=0.01, cycle_eta_multiplier=0.8,\n",
    "                            cycle_multiplier=2)\n",
    "\n",
    "model = DeepHitSingle(net, optimizer, duration_index=labtrans.cuts)"
   ]
  },
  {
   "cell_type": "code",
   "execution_count": 769,
   "id": "93ca55d1",
   "metadata": {},
   "outputs": [
    {
     "data": {
      "text/plain": [
       "0.08902150854450441"
      ]
     },
     "execution_count": 769,
     "metadata": {},
     "output_type": "execute_result"
    }
   ],
   "source": [
    "batch_size = 1000\n",
    "lrfind = model.lr_finder(x_train, y_train, batch_size, tolerance=50)\n",
    "lrfind.get_best_lr()"
   ]
  },
  {
   "cell_type": "code",
   "execution_count": 770,
   "id": "45cdcf28",
   "metadata": {},
   "outputs": [],
   "source": [
    "model.optimizer.set_lr(0.1)"
   ]
  },
  {
   "cell_type": "code",
   "execution_count": 771,
   "id": "227ec9c5",
   "metadata": {},
   "outputs": [
    {
     "name": "stdout",
     "output_type": "stream",
     "text": [
      "0:\t[0s / 0s],\t\ttrain_loss: 8.9013,\tval_loss: 1.0557\n",
      "1:\t[0s / 0s],\t\ttrain_loss: 1.7712,\tval_loss: 1.2736\n",
      "2:\t[0s / 0s],\t\ttrain_loss: 1.4848,\tval_loss: 1.3378\n",
      "3:\t[0s / 0s],\t\ttrain_loss: 1.4358,\tval_loss: 1.1234\n",
      "4:\t[0s / 0s],\t\ttrain_loss: 1.2413,\tval_loss: 0.9641\n",
      "5:\t[0s / 0s],\t\ttrain_loss: 1.1565,\tval_loss: 0.9212\n",
      "6:\t[0s / 0s],\t\ttrain_loss: 1.1168,\tval_loss: 0.9230\n",
      "7:\t[0s / 1s],\t\ttrain_loss: 1.0626,\tval_loss: 0.8192\n",
      "8:\t[0s / 1s],\t\ttrain_loss: 0.9815,\tval_loss: 0.7819\n",
      "9:\t[0s / 1s],\t\ttrain_loss: 1.0436,\tval_loss: 0.8100\n",
      "10:\t[0s / 1s],\t\ttrain_loss: 0.9035,\tval_loss: 0.7757\n",
      "11:\t[0s / 1s],\t\ttrain_loss: 0.8777,\tval_loss: 0.7608\n",
      "12:\t[0s / 1s],\t\ttrain_loss: 0.8537,\tval_loss: 0.7417\n",
      "13:\t[0s / 1s],\t\ttrain_loss: 0.8324,\tval_loss: 0.7357\n",
      "14:\t[0s / 1s],\t\ttrain_loss: 0.8249,\tval_loss: 0.7356\n",
      "15:\t[0s / 2s],\t\ttrain_loss: 0.8023,\tval_loss: 0.6577\n",
      "16:\t[0s / 2s],\t\ttrain_loss: 0.8528,\tval_loss: 0.6372\n",
      "17:\t[0s / 2s],\t\ttrain_loss: 0.7961,\tval_loss: 0.6427\n",
      "18:\t[0s / 2s],\t\ttrain_loss: 0.7501,\tval_loss: 0.6509\n",
      "19:\t[0s / 2s],\t\ttrain_loss: 0.7230,\tval_loss: 0.6271\n",
      "20:\t[0s / 2s],\t\ttrain_loss: 0.7011,\tval_loss: 0.6079\n",
      "21:\t[0s / 2s],\t\ttrain_loss: 0.6694,\tval_loss: 0.5940\n",
      "22:\t[0s / 2s],\t\ttrain_loss: 0.7119,\tval_loss: 0.5805\n",
      "23:\t[0s / 3s],\t\ttrain_loss: 0.6498,\tval_loss: 0.5761\n",
      "24:\t[0s / 3s],\t\ttrain_loss: 0.6835,\tval_loss: 0.5791\n",
      "25:\t[0s / 3s],\t\ttrain_loss: 0.6490,\tval_loss: 0.5694\n",
      "26:\t[0s / 3s],\t\ttrain_loss: 0.6543,\tval_loss: 0.5775\n",
      "27:\t[0s / 3s],\t\ttrain_loss: 0.6373,\tval_loss: 0.5723\n",
      "28:\t[0s / 3s],\t\ttrain_loss: 0.6510,\tval_loss: 0.5706\n",
      "29:\t[0s / 3s],\t\ttrain_loss: 0.6469,\tval_loss: 0.5733\n",
      "30:\t[0s / 3s],\t\ttrain_loss: 0.6302,\tval_loss: 0.5736\n",
      "31:\t[0s / 4s],\t\ttrain_loss: 0.6456,\tval_loss: 0.5756\n",
      "32:\t[0s / 4s],\t\ttrain_loss: 0.6169,\tval_loss: 0.5645\n",
      "33:\t[0s / 4s],\t\ttrain_loss: 0.6140,\tval_loss: 0.5603\n",
      "34:\t[0s / 4s],\t\ttrain_loss: 0.6001,\tval_loss: 0.5537\n",
      "35:\t[0s / 4s],\t\ttrain_loss: 0.6200,\tval_loss: 0.5630\n",
      "36:\t[0s / 4s],\t\ttrain_loss: 0.6233,\tval_loss: 0.5683\n",
      "37:\t[0s / 4s],\t\ttrain_loss: 0.6167,\tval_loss: 0.5633\n",
      "38:\t[0s / 5s],\t\ttrain_loss: 0.5955,\tval_loss: 0.5507\n",
      "39:\t[0s / 5s],\t\ttrain_loss: 0.6036,\tval_loss: 0.5439\n",
      "40:\t[0s / 5s],\t\ttrain_loss: 0.6018,\tval_loss: 0.5479\n",
      "41:\t[0s / 5s],\t\ttrain_loss: 0.5895,\tval_loss: 0.5479\n",
      "42:\t[0s / 5s],\t\ttrain_loss: 0.5882,\tval_loss: 0.5471\n",
      "43:\t[0s / 5s],\t\ttrain_loss: 0.5784,\tval_loss: 0.5452\n",
      "44:\t[0s / 5s],\t\ttrain_loss: 0.5887,\tval_loss: 0.5410\n",
      "45:\t[0s / 5s],\t\ttrain_loss: 0.5756,\tval_loss: 0.5563\n",
      "46:\t[0s / 6s],\t\ttrain_loss: 0.5693,\tval_loss: 0.5501\n",
      "47:\t[0s / 6s],\t\ttrain_loss: 0.5810,\tval_loss: 0.5481\n",
      "48:\t[0s / 6s],\t\ttrain_loss: 0.5610,\tval_loss: 0.5357\n",
      "49:\t[0s / 6s],\t\ttrain_loss: 0.5570,\tval_loss: 0.5371\n",
      "50:\t[0s / 6s],\t\ttrain_loss: 0.5631,\tval_loss: 0.5374\n",
      "51:\t[0s / 6s],\t\ttrain_loss: 0.5591,\tval_loss: 0.5374\n",
      "52:\t[0s / 6s],\t\ttrain_loss: 0.5600,\tval_loss: 0.5367\n",
      "53:\t[0s / 6s],\t\ttrain_loss: 0.5624,\tval_loss: 0.5359\n",
      "54:\t[0s / 7s],\t\ttrain_loss: 0.5580,\tval_loss: 0.5347\n",
      "55:\t[0s / 7s],\t\ttrain_loss: 0.5647,\tval_loss: 0.5344\n",
      "56:\t[0s / 7s],\t\ttrain_loss: 0.5673,\tval_loss: 0.5333\n",
      "57:\t[0s / 7s],\t\ttrain_loss: 0.5522,\tval_loss: 0.5334\n",
      "58:\t[0s / 7s],\t\ttrain_loss: 0.5541,\tval_loss: 0.5335\n",
      "59:\t[0s / 7s],\t\ttrain_loss: 0.5520,\tval_loss: 0.5338\n",
      "60:\t[0s / 7s],\t\ttrain_loss: 0.5534,\tval_loss: 0.5336\n",
      "61:\t[0s / 7s],\t\ttrain_loss: 0.5574,\tval_loss: 0.5342\n",
      "62:\t[0s / 8s],\t\ttrain_loss: 0.5537,\tval_loss: 0.5341\n",
      "63:\t[0s / 8s],\t\ttrain_loss: 0.5528,\tval_loss: 0.5318\n",
      "64:\t[0s / 8s],\t\ttrain_loss: 0.5516,\tval_loss: 0.5312\n",
      "65:\t[0s / 8s],\t\ttrain_loss: 0.5536,\tval_loss: 0.5306\n",
      "66:\t[0s / 8s],\t\ttrain_loss: 0.5561,\tval_loss: 0.5334\n",
      "67:\t[0s / 8s],\t\ttrain_loss: 0.5529,\tval_loss: 0.5329\n",
      "68:\t[0s / 8s],\t\ttrain_loss: 0.5487,\tval_loss: 0.5321\n",
      "69:\t[0s / 9s],\t\ttrain_loss: 0.5480,\tval_loss: 0.5321\n",
      "70:\t[0s / 9s],\t\ttrain_loss: 0.5548,\tval_loss: 0.5312\n",
      "71:\t[0s / 9s],\t\ttrain_loss: 0.5503,\tval_loss: 0.5294\n",
      "72:\t[0s / 9s],\t\ttrain_loss: 0.5602,\tval_loss: 0.5333\n",
      "73:\t[0s / 9s],\t\ttrain_loss: 0.5673,\tval_loss: 0.5372\n",
      "74:\t[0s / 9s],\t\ttrain_loss: 0.5443,\tval_loss: 0.5338\n",
      "75:\t[0s / 9s],\t\ttrain_loss: 0.5584,\tval_loss: 0.5308\n",
      "76:\t[0s / 9s],\t\ttrain_loss: 0.5477,\tval_loss: 0.5290\n",
      "77:\t[0s / 10s],\t\ttrain_loss: 0.5509,\tval_loss: 0.5278\n",
      "78:\t[0s / 10s],\t\ttrain_loss: 0.5547,\tval_loss: 0.5279\n",
      "79:\t[0s / 10s],\t\ttrain_loss: 0.5425,\tval_loss: 0.5461\n",
      "80:\t[0s / 10s],\t\ttrain_loss: 0.5414,\tval_loss: 0.5414\n",
      "81:\t[0s / 10s],\t\ttrain_loss: 0.5421,\tval_loss: 0.5322\n",
      "82:\t[0s / 10s],\t\ttrain_loss: 0.5469,\tval_loss: 0.5303\n",
      "83:\t[0s / 10s],\t\ttrain_loss: 0.5405,\tval_loss: 0.5286\n",
      "84:\t[0s / 10s],\t\ttrain_loss: 0.5416,\tval_loss: 0.5317\n",
      "85:\t[0s / 11s],\t\ttrain_loss: 0.5361,\tval_loss: 0.5335\n",
      "86:\t[0s / 11s],\t\ttrain_loss: 0.5505,\tval_loss: 0.5342\n",
      "87:\t[0s / 11s],\t\ttrain_loss: 0.5345,\tval_loss: 0.5370\n",
      "88:\t[0s / 11s],\t\ttrain_loss: 0.5413,\tval_loss: 0.5259\n",
      "89:\t[0s / 11s],\t\ttrain_loss: 0.5332,\tval_loss: 0.5257\n",
      "90:\t[0s / 11s],\t\ttrain_loss: 0.5334,\tval_loss: 0.5236\n",
      "91:\t[0s / 11s],\t\ttrain_loss: 0.5307,\tval_loss: 0.5224\n",
      "92:\t[0s / 12s],\t\ttrain_loss: 0.5277,\tval_loss: 0.5219\n",
      "93:\t[0s / 12s],\t\ttrain_loss: 0.5298,\tval_loss: 0.5213\n",
      "94:\t[0s / 12s],\t\ttrain_loss: 0.5242,\tval_loss: 0.5224\n",
      "95:\t[0s / 12s],\t\ttrain_loss: 0.5225,\tval_loss: 0.5225\n",
      "96:\t[0s / 12s],\t\ttrain_loss: 0.5235,\tval_loss: 0.5206\n",
      "97:\t[0s / 12s],\t\ttrain_loss: 0.5242,\tval_loss: 0.5211\n",
      "98:\t[0s / 12s],\t\ttrain_loss: 0.5216,\tval_loss: 0.5228\n",
      "99:\t[0s / 12s],\t\ttrain_loss: 0.5280,\tval_loss: 0.5216\n"
     ]
    }
   ],
   "source": [
    "epochs =100\n",
    "callbacks = [tt.cb.EarlyStoppingCycle()]\n",
    "verbose = True \n",
    "\n",
    "log = model.fit(x_train, y_train, batch_size, epochs, callbacks, verbose,\n",
    "                val_data=val)"
   ]
  },
  {
   "cell_type": "code",
   "execution_count": 772,
   "id": "b0d10259",
   "metadata": {},
   "outputs": [],
   "source": [
    "surv = model.interpolate(10).predict_surv_df(x_test)"
   ]
  },
  {
   "cell_type": "code",
   "execution_count": 773,
   "id": "f436d7dc",
   "metadata": {},
   "outputs": [],
   "source": [
    "ev = EvalSurv(surv, durations_test, events_test, censor_surv='km')"
   ]
  },
  {
   "cell_type": "code",
   "execution_count": 774,
   "id": "8fa0b200",
   "metadata": {},
   "outputs": [
    {
     "data": {
      "text/plain": [
       "0.6716793363511582"
      ]
     },
     "execution_count": 774,
     "metadata": {},
     "output_type": "execute_result"
    }
   ],
   "source": [
    "ev.concordance_td('antolini')"
   ]
  },
  {
   "cell_type": "code",
   "execution_count": 825,
   "id": "62dcbb8c",
   "metadata": {
    "scrolled": false
   },
   "outputs": [
    {
     "data": {
      "image/png": "[encoded data removed]",
      "text/plain": [
       "<Figure size 432x288 with 1 Axes>"
      ]
     },
     "metadata": {
      "needs_background": "light"
     },
     "output_type": "display_data"
    }
   ],
   "source": [
    "time_grid = np.linspace(durations_test.min(), durations_test.max(),4)\n",
    "ev.brier_score(time_grid).plot()\n",
    "plt.ylabel('Brier score')\n",
    "_ = plt.xlabel('Time')"
   ]
  },
  {
   "cell_type": "code",
   "execution_count": 826,
   "id": "ec27cf13",
   "metadata": {},
   "outputs": [
    {
     "data": {
      "text/plain": [
       "0.16158267635817236"
      ]
     },
     "execution_count": 826,
     "metadata": {},
     "output_type": "execute_result"
    }
   ],
   "source": [
    "ev.integrated_brier_score(time_grid) "
   ]
  },
  {
   "cell_type": "markdown",
   "id": "962bde77",
   "metadata": {},
   "source": [
    "ev.integrated_nbll(time_grid) "
   ]
  },
  {
   "cell_type": "code",
   "execution_count": 777,
   "id": "26f16c87",
   "metadata": {
    "scrolled": true
   },
   "outputs": [
    {
     "data": {
      "image/png": "[encoded data removed]",
      "text/plain": [
       "<Figure size 432x288 with 1 Axes>"
      ]
     },
     "metadata": {
      "needs_background": "light"
     },
     "output_type": "display_data"
    }
   ],
   "source": [
    "_ = log.plot()"
   ]
  },
  {
   "cell_type": "code",
   "execution_count": 778,
   "id": "c71e51c4",
   "metadata": {},
   "outputs": [
    {
     "data": {
      "image/png": "[encoded data removed]",
      "text/plain": [
       "<Figure size 432x288 with 1 Axes>"
      ]
     },
     "metadata": {
      "needs_background": "light"
     },
     "output_type": "display_data"
    }
   ],
   "source": [
    "_=lrfind.plot()"
   ]
  },
  {
   "cell_type": "code",
   "execution_count": null,
   "id": "c939e842",
   "metadata": {},
   "outputs": [],
   "source": []
  }
 ],
 "metadata": {
  "kernelspec": {
   "display_name": "Python 3 (ipykernel)",
   "language": "python",
   "name": "python3"
  },
  "language_info": {
   "codemirror_mode": {
    "name": "ipython",
    "version": 3
   },
   "file_extension": ".py",
   "mimetype": "text/x-python",
   "name": "python",
   "nbconvert_exporter": "python",
   "pygments_lexer": "ipython3",
   "version": "3.9.7"
  }
 },
 "nbformat": 4,
 "nbformat_minor": 5
}
