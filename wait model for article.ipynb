{
 "cells": [
  {
   "cell_type": "code",
   "execution_count": 1,
   "id": "ffddc60f",
   "metadata": {},
   "outputs": [
    {
     "name": "stdout",
     "output_type": "stream",
     "text": [
      "Requirement already satisfied: sklearn-pandas in c:\\users\\xiaoz\\anaconda3\\lib\\site-packages (2.2.0)\n",
      "Requirement already satisfied: scikit-learn>=0.23.0 in c:\\users\\xiaoz\\anaconda3\\lib\\site-packages (from sklearn-pandas) (0.24.2)\n",
      "Requirement already satisfied: pandas>=1.1.4 in c:\\users\\xiaoz\\anaconda3\\lib\\site-packages (from sklearn-pandas) (1.3.4)\n",
      "Requirement already satisfied: numpy>=1.18.1 in c:\\users\\xiaoz\\anaconda3\\lib\\site-packages (from sklearn-pandas) (1.20.3)\n",
      "Requirement already satisfied: scipy>=1.5.1 in c:\\users\\xiaoz\\anaconda3\\lib\\site-packages (from sklearn-pandas) (1.7.1)\n",
      "Requirement already satisfied: pytz>=2017.3 in c:\\users\\xiaoz\\anaconda3\\lib\\site-packages (from pandas>=1.1.4->sklearn-pandas) (2021.3)\n",
      "Requirement already satisfied: python-dateutil>=2.7.3 in c:\\users\\xiaoz\\anaconda3\\lib\\site-packages (from pandas>=1.1.4->sklearn-pandas) (2.8.2)\n",
      "Requirement already satisfied: six>=1.5 in c:\\users\\xiaoz\\anaconda3\\lib\\site-packages (from python-dateutil>=2.7.3->pandas>=1.1.4->sklearn-pandas) (1.16.0)\n",
      "Requirement already satisfied: threadpoolctl>=2.0.0 in c:\\users\\xiaoz\\anaconda3\\lib\\site-packages (from scikit-learn>=0.23.0->sklearn-pandas) (2.2.0)\n",
      "Requirement already satisfied: joblib>=0.11 in c:\\users\\xiaoz\\anaconda3\\lib\\site-packages (from scikit-learn>=0.23.0->sklearn-pandas) (1.1.0)\n"
     ]
    }
   ],
   "source": [
    "! pip install sklearn-pandas\n",
    "import numpy as np\n",
    "import matplotlib.pyplot as plt\n",
    "import pandas as pd\n",
    "# For preprocessing\n",
    "from sklearn.preprocessing import StandardScaler\n",
    "from sklearn_pandas import DataFrameMapper \n",
    "\n",
    "import torch # For building the networks \n",
    "import torchtuples as tt # Some useful functions\n",
    "# change pycox import datasets and df= read.csv\n",
    "\n",
    "df_train=pd.read_csv('D:/UNOS_NEW/waitt_dephit_train_cindex7.csv', sep=',')\n",
    "df_test=pd.read_csv('D:/UNOS_NEW/waitt_dephit_test_cindex7.csv', sep=',')\n",
    "df_val=pd.read_csv('D:/UNOS_NEW/waitt_dephit_val_cindex7.csv', sep=',')\n",
    "from pycox.models import DeepHitSingle\n",
    "from pycox.evaluation import EvalSurv\n",
    "## Uncomment to install `sklearn-pandas`\n",
    "# ! pip install sklearn-pandas\n",
    "np.random.seed(1234)\n",
    "_ = torch.manual_seed(123)\n",
    "\n",
    "df_train['INIT_AGE']=df_train['INIT_AGE'].astype('float32')\n",
    "df_train['INIT_BILIRUBIN']=df_train['INIT_BILIRUBIN'].astype('float32')\n",
    "df_train['INIT_INR']=df_train['INIT_INR'].astype('float32')\n",
    "df_train['INIT_SERUM_CREAT']=df_train['INIT_SERUM_CREAT'].astype('float32')\n",
    "df_train['FUNC_STAT_TCR']=df_train['FUNC_STAT_TCR'].astype('float32')\n",
    "df_train['INIT_ALBUMIN']=df_train['INIT_ALBUMIN'].astype('float32')\n",
    "df_train['INIT_ASCITES']=df_train['INIT_ASCITES'].astype('float32')\n",
    "df_train['LIFE_SUP_TCR']=df_train['LIFE_SUP_TCR'].astype('float32')\n",
    "df_train['INIT_ENCEPH']=df_train['INIT_ENCEPH'].astype('float32')\n",
    "df_train['VENTILATOR_TCR']=df_train['VENTILATOR_TCR'].astype('float32')\n",
    "df_train['duration']=df_train['duration'].astype('float32')\n",
    "df_train['event']=df_train['event'].astype('int32')\n",
    "\n",
    "df_test['INIT_AGE']=df_test['INIT_AGE'].astype('float32')\n",
    "df_test['INIT_BILIRUBIN']=df_test['INIT_BILIRUBIN'].astype('float32')\n",
    "df_test['INIT_INR']=df_test['INIT_INR'].astype('float32')\n",
    "df_test['INIT_SERUM_CREAT']=df_test['INIT_SERUM_CREAT'].astype('float32')\n",
    "df_test['FUNC_STAT_TCR']=df_test['FUNC_STAT_TCR'].astype('float32')\n",
    "df_test['INIT_ALBUMIN']=df_test['INIT_ALBUMIN'].astype('float32')\n",
    "df_test['INIT_ASCITES']=df_test['INIT_ASCITES'].astype('float32')\n",
    "df_test['LIFE_SUP_TCR']=df_test['LIFE_SUP_TCR'].astype('float32')\n",
    "df_test['INIT_ENCEPH']=df_test['INIT_ENCEPH'].astype('float32')\n",
    "df_test['VENTILATOR_TCR']=df_test['VENTILATOR_TCR'].astype('float32')\n",
    "df_test['duration']=df_test['duration'].astype('float32')\n",
    "df_test['event']=df_test['event'].astype('int32')\n",
    "\n",
    "df_val['INIT_AGE']=df_val['INIT_AGE'].astype('float32')\n",
    "df_val['INIT_BILIRUBIN']=df_val['INIT_BILIRUBIN'].astype('float32')\n",
    "df_val['INIT_INR']=df_val['INIT_INR'].astype('float32')\n",
    "df_val['INIT_SERUM_CREAT']=df_val['INIT_SERUM_CREAT'].astype('float32')\n",
    "df_val['FUNC_STAT_TCR']=df_val['FUNC_STAT_TCR'].astype('float32')\n",
    "df_val['INIT_ALBUMIN']=df_val['INIT_ALBUMIN'].astype('float32')\n",
    "df_val['INIT_ASCITES']=df_val['INIT_ASCITES'].astype('float32')\n",
    "df_val['LIFE_SUP_TCR']=df_val['LIFE_SUP_TCR'].astype('float32')\n",
    "df_val['INIT_ENCEPH']=df_val['INIT_ENCEPH'].astype('float32')\n",
    "df_val['VENTILATOR_TCR']=df_val['VENTILATOR_TCR'].astype('float32')\n",
    "df_val['duration']=df_val['duration'].astype('float32')\n",
    "df_val['event']=df_val['event'].astype('int32')"
   ]
  },
  {
   "cell_type": "code",
   "execution_count": 2,
   "id": "4e1565f0",
   "metadata": {},
   "outputs": [],
   "source": [
    "import numpy as np\n",
    "import pandas as pd\n",
    "\n",
    "class OrderedCategoricalLong:\n",
    "    \"\"\"Transform pandas series or numpy array to categorical, and get (long) values,\n",
    "    i.e. index of category. Useful for entity embeddings.\n",
    "    Zero is reserved for unknown categories or nans.\n",
    "    Keyword Arguments:\n",
    "        min_per_category {int} -- Number of instances required to not be set to nan (default: {20})\n",
    "        return_series {bool} -- If return a array or pd.Series (default: {False})\n",
    "    \n",
    "    Returns:\n",
    "        [pd.Series] -- Series with long values reffering to categories.\n",
    "    \"\"\"\n",
    "    def __init__(self, min_per_category=20, return_series=False):\n",
    "        \n",
    "        self.min_per_category = min_per_category\n",
    "        self.return_series = return_series\n",
    "\n",
    "    def fit(self, series, y=None):\n",
    "        series = pd.Series(series).copy()\n",
    "        smaller = series.value_counts() < self.min_per_category\n",
    "        values = smaller[smaller].index.values\n",
    "        for v in values:\n",
    "            series[series == v] = np.nan\n",
    "        self.categories = series.astype('category').cat.categories\n",
    "        return self\n",
    "    \n",
    "    def transform(self, series, y=None):\n",
    "        series = pd.Series(series).copy()\n",
    "        transformed = pd.Categorical(series, categories=self.categories, ordered=True)\n",
    "        transformed = pd.Series(transformed, index=series.index)\n",
    "        transformed = transformed.cat.codes.astype('int64') + 1\n",
    "        return transformed if self.return_series else transformed.values\n",
    "    \n",
    "    def fit_transform(self, series, y=None):\n",
    "        return self.fit(series, y).transform(series, y)\n",
    "cols_std = ['INIT_AGE','INIT_ALBUMIN', 'INIT_BILIRUBIN', 'INIT_INR', 'INIT_SERUM_CREAT'] # numeric variables\n",
    "cols_bin = ['LIFE_SUP_TCR','VENTILATOR_TCR'] # binary variables\n",
    "cols_cat = ['FUNC_STAT_TCR','INIT_ASCITES','INIT_ENCEPH'] # categorical variables\n",
    "\n",
    "standardize = [([col], StandardScaler()) for col in cols_std]\n",
    "leave = [(col, None) for col in cols_bin]\n",
    "categorical = [(col, OrderedCategoricalLong()) for col in cols_cat]\n",
    "\n",
    "x_mapper_float = DataFrameMapper(standardize + leave)\n",
    "x_mapper_long = DataFrameMapper(categorical)  # we need a separate mapper to convert data to 'int64'\n",
    "\n",
    "x_fit_transform = lambda df: tt.tuplefy(x_mapper_float.fit_transform(df), x_mapper_long.fit_transform(df))\n",
    "x_transform = lambda df: tt.tuplefy(x_mapper_float.transform(df), x_mapper_long.transform(df))\n",
    "\n",
    "x_train = x_fit_transform(df_train)\n",
    "x_val = x_transform(df_val)\n",
    "x_test = x_transform(df_test)"
   ]
  },
  {
   "cell_type": "code",
   "execution_count": 3,
   "id": "97509b41",
   "metadata": {},
   "outputs": [
    {
     "data": {
      "image/png": "[encoded data removed]",
      "text/plain": [
       "<Figure size 432x288 with 1 Axes>"
      ]
     },
     "metadata": {
      "needs_background": "light"
     },
     "output_type": "display_data"
    }
   ],
   "source": [
    "num_durations = 10\n",
    "scheme = 'equidistant' # or quantiles\n",
    "labtrans = DeepHitSingle.label_transform(num_durations, scheme)\n",
    "get_target = lambda df: (df['duration'].values, df['event'].values)\n",
    "y_train = labtrans.fit_transform(*get_target(df_train))\n",
    "y_val = labtrans.transform(*get_target(df_val))\n",
    "\n",
    "train = (x_train, y_train)\n",
    "val = (x_val, y_val)\n",
    "\n",
    "# We don't need to transform the test labels\n",
    "durations_test, events_test = get_target(df_test)\n",
    "\n",
    "# Plotting discrete intervals\n",
    "from pycox.utils import kaplan_meier\n",
    "plt.vlines(labtrans.cuts, 0, 1, colors='black', linestyles=\"--\", label='Discretization Grid')\n",
    "kaplan_meier(*get_target(df_train)).plot(label='Kaplan-Meier')\n",
    "plt.ylabel('S(t)')\n",
    "plt.legend()\n",
    "_ = plt.xlabel('Time')"
   ]
  },
  {
   "cell_type": "code",
   "execution_count": 4,
   "id": "96f70f65",
   "metadata": {},
   "outputs": [],
   "source": [
    "num_embeddings = x_train[1].max(0) + 1\n",
    "embedding_dims = num_embeddings // 2\n",
    "\n",
    "in_features = x_train[0].shape[1]\n",
    "out_features = labtrans.out_features\n",
    "num_nodes = [64, 64]\n",
    "batch_norm = True\n",
    "dropout = 0.3\n",
    "\n",
    "net = tt.practical.MixedInputMLP(in_features, num_embeddings, embedding_dims,\n",
    "                                 num_nodes, out_features, batch_norm, dropout)\n",
    "                                 \n",
    "optimizer = tt.optim.AdamWR(decoupled_weight_decay=0.01, cycle_eta_multiplier=0.8,\n",
    "                            cycle_multiplier=2)\n",
    "\n",
    "model = DeepHitSingle(net, optimizer, duration_index=labtrans.cuts)"
   ]
  },
  {
   "cell_type": "code",
   "execution_count": 5,
   "id": "fd0dbbcd",
   "metadata": {},
   "outputs": [
    {
     "name": "stderr",
     "output_type": "stream",
     "text": [
      "C:\\Users\\xiaoz\\anaconda3\\lib\\site-packages\\torchtuples\\callbacks.py:607: UserWarning: This overload of add is deprecated:\n",
      "\tadd(Number alpha, Tensor other)\n",
      "Consider using one of the following signatures instead:\n",
      "\tadd(Tensor other, *, Number alpha) (Triggered internally at  ..\\torch\\csrc\\utils\\python_arg_parser.cpp:1050.)\n",
      "  p.data = p.data.add(-weight_decay * eta, p.data)\n"
     ]
    },
    {
     "data": {
      "text/plain": [
       "0.08902150854450441"
      ]
     },
     "execution_count": 5,
     "metadata": {},
     "output_type": "execute_result"
    }
   ],
   "source": [
    "batch_size = 700\n",
    "lrfind = model.lr_finder(x_train, y_train, batch_size, tolerance=50)\n",
    "lrfind.get_best_lr()"
   ]
  },
  {
   "cell_type": "code",
   "execution_count": 6,
   "id": "034d1782",
   "metadata": {},
   "outputs": [],
   "source": [
    "model.optimizer.set_lr(0.089)"
   ]
  },
  {
   "cell_type": "code",
   "execution_count": 7,
   "id": "8f518b99",
   "metadata": {},
   "outputs": [
    {
     "name": "stdout",
     "output_type": "stream",
     "text": [
      "0:\t[0s / 0s],\t\ttrain_loss: 0.8501,\tval_loss: 0.4366\n",
      "1:\t[0s / 0s],\t\ttrain_loss: 0.6396,\tval_loss: 0.7067\n",
      "2:\t[0s / 0s],\t\ttrain_loss: 0.5222,\tval_loss: 0.4361\n",
      "3:\t[0s / 0s],\t\ttrain_loss: 0.4239,\tval_loss: 0.3458\n",
      "4:\t[0s / 0s],\t\ttrain_loss: 0.3589,\tval_loss: 0.2957\n",
      "5:\t[0s / 0s],\t\ttrain_loss: 0.3971,\tval_loss: 0.3094\n",
      "6:\t[0s / 1s],\t\ttrain_loss: 0.3325,\tval_loss: 0.3070\n",
      "7:\t[0s / 1s],\t\ttrain_loss: 0.3206,\tval_loss: 0.2869\n",
      "8:\t[0s / 1s],\t\ttrain_loss: 0.3107,\tval_loss: 0.2652\n",
      "9:\t[0s / 1s],\t\ttrain_loss: 0.2890,\tval_loss: 0.2673\n",
      "10:\t[0s / 1s],\t\ttrain_loss: 0.2701,\tval_loss: 0.2517\n",
      "11:\t[0s / 1s],\t\ttrain_loss: 0.2635,\tval_loss: 0.2575\n",
      "12:\t[0s / 2s],\t\ttrain_loss: 0.2564,\tval_loss: 0.2486\n",
      "13:\t[0s / 2s],\t\ttrain_loss: 0.2549,\tval_loss: 0.2480\n",
      "14:\t[0s / 2s],\t\ttrain_loss: 0.2546,\tval_loss: 0.2477\n",
      "15:\t[0s / 2s],\t\ttrain_loss: 0.3008,\tval_loss: 0.3104\n",
      "16:\t[0s / 2s],\t\ttrain_loss: 0.2943,\tval_loss: 0.2622\n",
      "17:\t[0s / 2s],\t\ttrain_loss: 0.2565,\tval_loss: 0.2463\n",
      "18:\t[0s / 2s],\t\ttrain_loss: 0.2445,\tval_loss: 0.2523\n",
      "19:\t[0s / 3s],\t\ttrain_loss: 0.2470,\tval_loss: 0.2441\n",
      "20:\t[0s / 3s],\t\ttrain_loss: 0.2410,\tval_loss: 0.2440\n",
      "21:\t[0s / 3s],\t\ttrain_loss: 0.2353,\tval_loss: 0.2420\n",
      "22:\t[0s / 3s],\t\ttrain_loss: 0.2339,\tval_loss: 0.2396\n",
      "23:\t[0s / 3s],\t\ttrain_loss: 0.2327,\tval_loss: 0.2380\n",
      "24:\t[0s / 3s],\t\ttrain_loss: 0.2378,\tval_loss: 0.2393\n",
      "25:\t[0s / 4s],\t\ttrain_loss: 0.2349,\tval_loss: 0.2381\n",
      "26:\t[0s / 4s],\t\ttrain_loss: 0.2318,\tval_loss: 0.2386\n",
      "27:\t[0s / 4s],\t\ttrain_loss: 0.2309,\tval_loss: 0.2378\n",
      "28:\t[0s / 4s],\t\ttrain_loss: 0.2326,\tval_loss: 0.2378\n",
      "29:\t[0s / 4s],\t\ttrain_loss: 0.2331,\tval_loss: 0.2377\n",
      "30:\t[0s / 4s],\t\ttrain_loss: 0.2333,\tval_loss: 0.2376\n",
      "31:\t[0s / 4s],\t\ttrain_loss: 0.2454,\tval_loss: 0.2509\n",
      "32:\t[0s / 5s],\t\ttrain_loss: 0.2505,\tval_loss: 0.2476\n",
      "33:\t[0s / 5s],\t\ttrain_loss: 0.2434,\tval_loss: 0.2426\n",
      "34:\t[0s / 5s],\t\ttrain_loss: 0.2389,\tval_loss: 0.2385\n",
      "35:\t[0s / 5s],\t\ttrain_loss: 0.2399,\tval_loss: 0.2392\n",
      "36:\t[0s / 5s],\t\ttrain_loss: 0.2317,\tval_loss: 0.2399\n",
      "37:\t[0s / 5s],\t\ttrain_loss: 0.2375,\tval_loss: 0.2410\n",
      "38:\t[0s / 6s],\t\ttrain_loss: 0.2311,\tval_loss: 0.2413\n",
      "39:\t[0s / 6s],\t\ttrain_loss: 0.2307,\tval_loss: 0.2404\n",
      "40:\t[0s / 6s],\t\ttrain_loss: 0.2360,\tval_loss: 0.2462\n",
      "41:\t[0s / 6s],\t\ttrain_loss: 0.2338,\tval_loss: 0.2424\n",
      "42:\t[0s / 6s],\t\ttrain_loss: 0.2296,\tval_loss: 0.2395\n",
      "43:\t[0s / 6s],\t\ttrain_loss: 0.2284,\tval_loss: 0.2381\n",
      "44:\t[0s / 6s],\t\ttrain_loss: 0.2265,\tval_loss: 0.2372\n",
      "45:\t[0s / 7s],\t\ttrain_loss: 0.2355,\tval_loss: 0.2393\n",
      "46:\t[0s / 7s],\t\ttrain_loss: 0.2333,\tval_loss: 0.2445\n",
      "47:\t[0s / 7s],\t\ttrain_loss: 0.2361,\tval_loss: 0.2414\n",
      "48:\t[0s / 7s],\t\ttrain_loss: 0.2338,\tval_loss: 0.2416\n",
      "49:\t[0s / 7s],\t\ttrain_loss: 0.2314,\tval_loss: 0.2420\n",
      "50:\t[0s / 7s],\t\ttrain_loss: 0.2284,\tval_loss: 0.2408\n",
      "51:\t[0s / 8s],\t\ttrain_loss: 0.2240,\tval_loss: 0.2405\n",
      "52:\t[0s / 8s],\t\ttrain_loss: 0.2257,\tval_loss: 0.2381\n",
      "53:\t[0s / 8s],\t\ttrain_loss: 0.2256,\tval_loss: 0.2389\n",
      "54:\t[0s / 8s],\t\ttrain_loss: 0.2283,\tval_loss: 0.2391\n",
      "55:\t[0s / 8s],\t\ttrain_loss: 0.2288,\tval_loss: 0.2391\n",
      "56:\t[0s / 8s],\t\ttrain_loss: 0.2244,\tval_loss: 0.2388\n",
      "57:\t[0s / 8s],\t\ttrain_loss: 0.2266,\tval_loss: 0.2388\n",
      "58:\t[0s / 9s],\t\ttrain_loss: 0.2229,\tval_loss: 0.2392\n",
      "59:\t[0s / 9s],\t\ttrain_loss: 0.2260,\tval_loss: 0.2391\n",
      "60:\t[0s / 9s],\t\ttrain_loss: 0.2234,\tval_loss: 0.2393\n",
      "61:\t[0s / 9s],\t\ttrain_loss: 0.2240,\tval_loss: 0.2395\n",
      "62:\t[0s / 9s],\t\ttrain_loss: 0.2271,\tval_loss: 0.2393\n",
      "63:\t[0s / 9s],\t\ttrain_loss: 0.2259,\tval_loss: 0.2426\n",
      "64:\t[0s / 10s],\t\ttrain_loss: 0.2242,\tval_loss: 0.2478\n",
      "65:\t[0s / 10s],\t\ttrain_loss: 0.2275,\tval_loss: 0.2460\n",
      "66:\t[0s / 10s],\t\ttrain_loss: 0.2257,\tval_loss: 0.2470\n",
      "67:\t[0s / 10s],\t\ttrain_loss: 0.2270,\tval_loss: 0.2410\n",
      "68:\t[0s / 10s],\t\ttrain_loss: 0.2259,\tval_loss: 0.2371\n",
      "69:\t[0s / 10s],\t\ttrain_loss: 0.2294,\tval_loss: 0.2364\n",
      "70:\t[0s / 11s],\t\ttrain_loss: 0.2271,\tval_loss: 0.2379\n",
      "71:\t[0s / 11s],\t\ttrain_loss: 0.2291,\tval_loss: 0.2415\n",
      "72:\t[0s / 11s],\t\ttrain_loss: 0.2277,\tval_loss: 0.2399\n",
      "73:\t[0s / 11s],\t\ttrain_loss: 0.2278,\tval_loss: 0.2378\n",
      "74:\t[0s / 11s],\t\ttrain_loss: 0.2306,\tval_loss: 0.2365\n",
      "75:\t[0s / 11s],\t\ttrain_loss: 0.2245,\tval_loss: 0.2377\n",
      "76:\t[0s / 11s],\t\ttrain_loss: 0.2273,\tval_loss: 0.2381\n",
      "77:\t[0s / 12s],\t\ttrain_loss: 0.2283,\tval_loss: 0.2416\n",
      "78:\t[0s / 12s],\t\ttrain_loss: 0.2230,\tval_loss: 0.2429\n",
      "79:\t[0s / 12s],\t\ttrain_loss: 0.2254,\tval_loss: 0.2411\n",
      "80:\t[0s / 12s],\t\ttrain_loss: 0.2214,\tval_loss: 0.2411\n",
      "81:\t[0s / 12s],\t\ttrain_loss: 0.2244,\tval_loss: 0.2402\n",
      "82:\t[0s / 12s],\t\ttrain_loss: 0.2267,\tval_loss: 0.2410\n",
      "83:\t[0s / 12s],\t\ttrain_loss: 0.2276,\tval_loss: 0.2449\n",
      "84:\t[0s / 13s],\t\ttrain_loss: 0.2201,\tval_loss: 0.2412\n",
      "85:\t[0s / 13s],\t\ttrain_loss: 0.2204,\tval_loss: 0.2449\n",
      "86:\t[0s / 13s],\t\ttrain_loss: 0.2229,\tval_loss: 0.2425\n",
      "87:\t[0s / 13s],\t\ttrain_loss: 0.2213,\tval_loss: 0.2459\n",
      "88:\t[0s / 13s],\t\ttrain_loss: 0.2248,\tval_loss: 0.2475\n",
      "89:\t[0s / 13s],\t\ttrain_loss: 0.2257,\tval_loss: 0.2398\n",
      "90:\t[0s / 14s],\t\ttrain_loss: 0.2194,\tval_loss: 0.2403\n",
      "91:\t[0s / 14s],\t\ttrain_loss: 0.2182,\tval_loss: 0.2385\n",
      "92:\t[0s / 14s],\t\ttrain_loss: 0.2187,\tval_loss: 0.2380\n",
      "93:\t[0s / 14s],\t\ttrain_loss: 0.2185,\tval_loss: 0.2379\n",
      "94:\t[0s / 14s],\t\ttrain_loss: 0.2197,\tval_loss: 0.2385\n",
      "95:\t[0s / 14s],\t\ttrain_loss: 0.2201,\tval_loss: 0.2374\n",
      "96:\t[0s / 15s],\t\ttrain_loss: 0.2182,\tval_loss: 0.2405\n",
      "97:\t[0s / 15s],\t\ttrain_loss: 0.2188,\tval_loss: 0.2379\n",
      "98:\t[0s / 15s],\t\ttrain_loss: 0.2219,\tval_loss: 0.2388\n",
      "99:\t[0s / 15s],\t\ttrain_loss: 0.2169,\tval_loss: 0.2399\n"
     ]
    }
   ],
   "source": [
    "epochs = 100\n",
    "callbacks = [tt.cb.EarlyStoppingCycle()]\n",
    "verbose = True \n",
    "\n",
    "log = model.fit(x_train, y_train, batch_size, epochs, callbacks, verbose,\n",
    "                val_data=val)"
   ]
  },
  {
   "cell_type": "code",
   "execution_count": 11,
   "id": "5bd51b25",
   "metadata": {},
   "outputs": [
    {
     "data": {
      "image/png": "[encoded data removed]",
      "text/plain": [
       "<Figure size 432x288 with 1 Axes>"
      ]
     },
     "metadata": {
      "needs_background": "light"
     },
     "output_type": "display_data"
    }
   ],
   "source": [
    "_ = log.plot()"
   ]
  },
  {
   "cell_type": "code",
   "execution_count": 12,
   "id": "f5c4d461",
   "metadata": {},
   "outputs": [],
   "source": [
    "surv = model.predict_surv_df(x_test)"
   ]
  },
  {
   "cell_type": "code",
   "execution_count": 13,
   "id": "5b5703df",
   "metadata": {},
   "outputs": [
    {
     "data": {
      "image/png": "[encoded data removed]",
      "text/plain": [
       "<Figure size 432x288 with 1 Axes>"
      ]
     },
     "metadata": {
      "needs_background": "light"
     },
     "output_type": "display_data"
    }
   ],
   "source": [
    "surv.iloc[:, :5].plot(drawstyle='steps-post')\n",
    "plt.ylabel('S(t | x)')\n",
    "_ = plt.xlabel('Time')"
   ]
  },
  {
   "cell_type": "code",
   "execution_count": 14,
   "id": "31eb60f1",
   "metadata": {},
   "outputs": [],
   "source": [
    "surv = model.interpolate(10).predict_surv_df(x_test)"
   ]
  },
  {
   "cell_type": "code",
   "execution_count": 15,
   "id": "ff9c3ae5",
   "metadata": {},
   "outputs": [
    {
     "data": {
      "image/png": "[encoded data removed]",
      "text/plain": [
       "<Figure size 432x288 with 1 Axes>"
      ]
     },
     "metadata": {
      "needs_background": "light"
     },
     "output_type": "display_data"
    }
   ],
   "source": [
    "surv.iloc[:, :5].plot(drawstyle='steps-post')\n",
    "plt.ylabel('S(t | x)')\n",
    "_ = plt.xlabel('Time')"
   ]
  },
  {
   "cell_type": "code",
   "execution_count": 16,
   "id": "41783c3e",
   "metadata": {},
   "outputs": [],
   "source": [
    "ev = EvalSurv(surv, durations_test, events_test, censor_surv='km')"
   ]
  },
  {
   "cell_type": "code",
   "execution_count": 17,
   "id": "44746dd0",
   "metadata": {},
   "outputs": [
    {
     "data": {
      "text/plain": [
       "0.764066532012685"
      ]
     },
     "execution_count": 17,
     "metadata": {},
     "output_type": "execute_result"
    }
   ],
   "source": [
    "ev.concordance_td('antolini')"
   ]
  },
  {
   "cell_type": "code",
   "execution_count": 18,
   "id": "7bfb0320",
   "metadata": {},
   "outputs": [
    {
     "data": {
      "image/png": "[encoded data removed]",
      "text/plain": [
       "<Figure size 432x288 with 1 Axes>"
      ]
     },
     "metadata": {
      "needs_background": "light"
     },
     "output_type": "display_data"
    }
   ],
   "source": [
    "time_grid = np.linspace(durations_test.min(), durations_test.max(), 4)\n",
    "ev.brier_score(time_grid).plot()\n",
    "plt.ylabel('Brier score')\n",
    "_ = plt.xlabel('Time')"
   ]
  },
  {
   "cell_type": "code",
   "execution_count": 19,
   "id": "203e9245",
   "metadata": {},
   "outputs": [
    {
     "data": {
      "image/png": "[encoded data removed]",
      "text/plain": [
       "<Figure size 432x288 with 1 Axes>"
      ]
     },
     "metadata": {
      "needs_background": "light"
     },
     "output_type": "display_data"
    }
   ],
   "source": [
    "ev.nbll(time_grid).plot()\n",
    "plt.ylabel('NBLL')\n",
    "_ = plt.xlabel('Time')"
   ]
  },
  {
   "cell_type": "code",
   "execution_count": 20,
   "id": "63ca32f6",
   "metadata": {},
   "outputs": [
    {
     "data": {
      "text/plain": [
       "0.1522553068269334"
      ]
     },
     "execution_count": 20,
     "metadata": {},
     "output_type": "execute_result"
    }
   ],
   "source": [
    "ev.integrated_brier_score(time_grid) "
   ]
  },
  {
   "cell_type": "code",
   "execution_count": 21,
   "id": "abb9260c",
   "metadata": {},
   "outputs": [
    {
     "data": {
      "text/plain": [
       "0.45528172058625155"
      ]
     },
     "execution_count": 21,
     "metadata": {},
     "output_type": "execute_result"
    }
   ],
   "source": [
    "ev.integrated_nbll(time_grid) "
   ]
  },
  {
   "cell_type": "code",
   "execution_count": 22,
   "id": "640439bb",
   "metadata": {},
   "outputs": [
    {
     "data": {
      "image/png": "[encoded data removed]",
      "text/plain": [
       "<Figure size 432x288 with 1 Axes>"
      ]
     },
     "metadata": {
      "needs_background": "light"
     },
     "output_type": "display_data"
    }
   ],
   "source": [
    "surv.iloc[:, :5].plot(drawstyle='steps-post')\n",
    "plt.ylabel('S(t | x)')\n",
    "_ = plt.xlabel('Time')"
   ]
  },
  {
   "cell_type": "code",
   "execution_count": 56,
   "id": "59920eb7",
   "metadata": {},
   "outputs": [
    {
     "ename": "TypeError",
     "evalue": "unsupported operand type(s) for -: 'str' and 'float'",
     "output_type": "error",
     "traceback": [
      "\u001b[1;31m---------------------------------------------------------------------------\u001b[0m",
      "\u001b[1;31mTypeError\u001b[0m                                 Traceback (most recent call last)",
      "\u001b[1;32m~\\AppData\\Local\\Temp/ipykernel_16364/3253844775.py\u001b[0m in \u001b[0;36m<module>\u001b[1;34m\u001b[0m\n\u001b[0;32m      1\u001b[0m \u001b[0msurv\u001b[0m\u001b[1;33m.\u001b[0m\u001b[0miloc\u001b[0m\u001b[1;33m[\u001b[0m\u001b[1;33m:\u001b[0m\u001b[1;33m,\u001b[0m \u001b[1;33m:\u001b[0m\u001b[1;36m5\u001b[0m\u001b[1;33m]\u001b[0m\u001b[1;33m.\u001b[0m\u001b[0mplot\u001b[0m\u001b[1;33m(\u001b[0m\u001b[0mdrawstyle\u001b[0m\u001b[1;33m=\u001b[0m\u001b[1;34m'steps-post'\u001b[0m\u001b[1;33m)\u001b[0m\u001b[1;33m\u001b[0m\u001b[1;33m\u001b[0m\u001b[0m\n\u001b[1;32m----> 2\u001b[1;33m \u001b[0mplt\u001b[0m\u001b[1;33m.\u001b[0m\u001b[0mylabel\u001b[0m\u001b[1;33m(\u001b[0m\u001b[1;34m'S(t | x)'\u001b[0m\u001b[1;33m-\u001b[0m\u001b[1;36m0.2\u001b[0m\u001b[1;33m)\u001b[0m\u001b[1;33m\u001b[0m\u001b[1;33m\u001b[0m\u001b[0m\n\u001b[0m\u001b[0;32m      3\u001b[0m \u001b[0m_\u001b[0m \u001b[1;33m=\u001b[0m \u001b[0mplt\u001b[0m\u001b[1;33m.\u001b[0m\u001b[0mxlabel\u001b[0m\u001b[1;33m(\u001b[0m\u001b[1;34m'Time'\u001b[0m\u001b[1;33m)\u001b[0m\u001b[1;33m\u001b[0m\u001b[1;33m\u001b[0m\u001b[0m\n",
      "\u001b[1;31mTypeError\u001b[0m: unsupported operand type(s) for -: 'str' and 'float'"
     ]
    },
    {
     "data": {
      "image/png": "[encoded data removed]",
      "text/plain": [
       "<Figure size 432x288 with 1 Axes>"
      ]
     },
     "metadata": {
      "needs_background": "light"
     },
     "output_type": "display_data"
    }
   ],
   "source": [
    "surv.iloc[:, :5].plot(drawstyle='steps-post')\n",
    "plt.ylabel('S(t | x)'-0.2)\n",
    "_ = plt.xlabel('Time')"
   ]
  },
  {
   "cell_type": "code",
   "execution_count": 57,
   "id": "b05eb413",
   "metadata": {},
   "outputs": [
    {
     "data": {
      "image/png": "[encoded data removed]",
      "text/plain": [
       "<Figure size 432x288 with 1 Axes>"
      ]
     },
     "metadata": {
      "needs_background": "light"
     },
     "output_type": "display_data"
    }
   ],
   "source": [
    "surv.iloc[:, :5].plot(drawstyle='steps-post')\n",
    "plt.ylabel('S(t | x)-0.2')\n",
    "_ = plt.xlabel('Time')"
   ]
  },
  {
   "cell_type": "code",
   "execution_count": 58,
   "id": "d54ca7e7",
   "metadata": {},
   "outputs": [
    {
     "data": {
      "image/png": "[encoded data removed]",
      "text/plain": [
       "<Figure size 432x288 with 1 Axes>"
      ]
     },
     "metadata": {
      "needs_background": "light"
     },
     "output_type": "display_data"
    }
   ],
   "source": [
    "surv.iloc[:, :5].plot(drawstyle='steps-post')\n",
    "plt.ylabel('S(t | x)')\n",
    "_ = plt.xlabel('Time+2000')"
   ]
  },
  {
   "cell_type": "code",
   "execution_count": 59,
   "id": "bf1d8341",
   "metadata": {},
   "outputs": [
    {
     "data": {
      "image/png": "[encoded data removed]",
      "text/plain": [
       "<Figure size 432x288 with 1 Axes>"
      ]
     },
     "metadata": {
      "needs_background": "light"
     },
     "output_type": "display_data"
    }
   ],
   "source": [
    "surv.iloc[:, :5].plot(drawstyle='steps-post')\n",
    "plt.ylabel('S(t | x)')\n",
    "_ = plt.xlabel('Time')"
   ]
  },
  {
   "cell_type": "code",
   "execution_count": 60,
   "id": "5bae4b5b",
   "metadata": {},
   "outputs": [
    {
     "data": {
      "text/plain": [
       "<AxesSubplot:>"
      ]
     },
     "execution_count": 60,
     "metadata": {},
     "output_type": "execute_result"
    },
    {
     "data": {
      "image/png": "[encoded data removed]",
      "text/plain": [
       "<Figure size 432x288 with 1 Axes>"
      ]
     },
     "metadata": {
      "needs_background": "light"
     },
     "output_type": "display_data"
    }
   ],
   "source": [
    "surv.iloc[:, :5].plot(drawstyle='steps-post')\n"
   ]
  },
  {
   "cell_type": "code",
   "execution_count": 3,
   "id": "ff4eedc6",
   "metadata": {},
   "outputs": [
    {
     "ename": "NameError",
     "evalue": "name 'model' is not defined",
     "output_type": "error",
     "traceback": [
      "\u001b[1;31m---------------------------------------------------------------------------\u001b[0m",
      "\u001b[1;31mNameError\u001b[0m                                 Traceback (most recent call last)",
      "\u001b[1;32m~\\AppData\\Local\\Temp/ipykernel_4576/4168489795.py\u001b[0m in \u001b[0;36m<module>\u001b[1;34m\u001b[0m\n\u001b[1;32m----> 1\u001b[1;33m \u001b[0msurv\u001b[0m \u001b[1;33m=\u001b[0m \u001b[0mmodel\u001b[0m\u001b[1;33m.\u001b[0m\u001b[0mpredict_surv_df\u001b[0m\u001b[1;33m(\u001b[0m\u001b[0mx_test\u001b[0m\u001b[1;33m)\u001b[0m\u001b[1;33m\u001b[0m\u001b[1;33m\u001b[0m\u001b[0m\n\u001b[0m",
      "\u001b[1;31mNameError\u001b[0m: name 'model' is not defined"
     ]
    }
   ],
   "source": [
    "surv = model.predict_surv_df(x_test)"
   ]
  },
  {
   "cell_type": "code",
   "execution_count": 23,
   "id": "a28e723c",
   "metadata": {},
   "outputs": [
    {
     "data": {
      "text/html": [
       "<div>\n",
       "<style scoped>\n",
       "    .dataframe tbody tr th:only-of-type {\n",
       "        vertical-align: middle;\n",
       "    }\n",
       "\n",
       "    .dataframe tbody tr th {\n",
       "        vertical-align: top;\n",
       "    }\n",
       "\n",
       "    .dataframe thead th {\n",
       "        text-align: right;\n",
       "    }\n",
       "</style>\n",
       "<table border=\"1\" class=\"dataframe\">\n",
       "  <thead>\n",
       "    <tr style=\"text-align: right;\">\n",
       "      <th></th>\n",
       "      <th>0</th>\n",
       "      <th>1</th>\n",
       "      <th>2</th>\n",
       "      <th>3</th>\n",
       "      <th>4</th>\n",
       "      <th>5</th>\n",
       "      <th>6</th>\n",
       "      <th>7</th>\n",
       "      <th>8</th>\n",
       "      <th>9</th>\n",
       "      <th>...</th>\n",
       "      <th>2090</th>\n",
       "      <th>2091</th>\n",
       "      <th>2092</th>\n",
       "      <th>2093</th>\n",
       "      <th>2094</th>\n",
       "      <th>2095</th>\n",
       "      <th>2096</th>\n",
       "      <th>2097</th>\n",
       "      <th>2098</th>\n",
       "      <th>2099</th>\n",
       "    </tr>\n",
       "  </thead>\n",
       "  <tbody>\n",
       "    <tr>\n",
       "      <th>0.000000</th>\n",
       "      <td>0.997579</td>\n",
       "      <td>0.998035</td>\n",
       "      <td>0.999563</td>\n",
       "      <td>0.996945</td>\n",
       "      <td>0.998223</td>\n",
       "      <td>0.997653</td>\n",
       "      <td>0.997600</td>\n",
       "      <td>0.997220</td>\n",
       "      <td>0.997604</td>\n",
       "      <td>0.998204</td>\n",
       "      <td>...</td>\n",
       "      <td>0.997732</td>\n",
       "      <td>0.998275</td>\n",
       "      <td>0.997619</td>\n",
       "      <td>0.999228</td>\n",
       "      <td>0.997663</td>\n",
       "      <td>0.997608</td>\n",
       "      <td>0.998219</td>\n",
       "      <td>0.997458</td>\n",
       "      <td>0.997908</td>\n",
       "      <td>0.999074</td>\n",
       "    </tr>\n",
       "    <tr>\n",
       "      <th>20.277777</th>\n",
       "      <td>0.967984</td>\n",
       "      <td>0.979105</td>\n",
       "      <td>0.991418</td>\n",
       "      <td>0.975871</td>\n",
       "      <td>0.984753</td>\n",
       "      <td>0.971656</td>\n",
       "      <td>0.970221</td>\n",
       "      <td>0.974295</td>\n",
       "      <td>0.960352</td>\n",
       "      <td>0.983266</td>\n",
       "      <td>...</td>\n",
       "      <td>0.974553</td>\n",
       "      <td>0.984179</td>\n",
       "      <td>0.969249</td>\n",
       "      <td>0.988260</td>\n",
       "      <td>0.972468</td>\n",
       "      <td>0.958164</td>\n",
       "      <td>0.986280</td>\n",
       "      <td>0.967256</td>\n",
       "      <td>0.983077</td>\n",
       "      <td>0.990068</td>\n",
       "    </tr>\n",
       "    <tr>\n",
       "      <th>40.555554</th>\n",
       "      <td>0.938388</td>\n",
       "      <td>0.960176</td>\n",
       "      <td>0.983273</td>\n",
       "      <td>0.954798</td>\n",
       "      <td>0.971283</td>\n",
       "      <td>0.945659</td>\n",
       "      <td>0.942842</td>\n",
       "      <td>0.951369</td>\n",
       "      <td>0.923100</td>\n",
       "      <td>0.968327</td>\n",
       "      <td>...</td>\n",
       "      <td>0.951374</td>\n",
       "      <td>0.970083</td>\n",
       "      <td>0.940879</td>\n",
       "      <td>0.977293</td>\n",
       "      <td>0.947273</td>\n",
       "      <td>0.918719</td>\n",
       "      <td>0.974342</td>\n",
       "      <td>0.937054</td>\n",
       "      <td>0.968246</td>\n",
       "      <td>0.981062</td>\n",
       "    </tr>\n",
       "    <tr>\n",
       "      <th>60.833331</th>\n",
       "      <td>0.908793</td>\n",
       "      <td>0.941246</td>\n",
       "      <td>0.975128</td>\n",
       "      <td>0.933724</td>\n",
       "      <td>0.957813</td>\n",
       "      <td>0.919661</td>\n",
       "      <td>0.915463</td>\n",
       "      <td>0.928444</td>\n",
       "      <td>0.885848</td>\n",
       "      <td>0.953389</td>\n",
       "      <td>...</td>\n",
       "      <td>0.928195</td>\n",
       "      <td>0.955987</td>\n",
       "      <td>0.912508</td>\n",
       "      <td>0.966325</td>\n",
       "      <td>0.922079</td>\n",
       "      <td>0.879274</td>\n",
       "      <td>0.962403</td>\n",
       "      <td>0.906852</td>\n",
       "      <td>0.953415</td>\n",
       "      <td>0.972056</td>\n",
       "    </tr>\n",
       "    <tr>\n",
       "      <th>81.111108</th>\n",
       "      <td>0.879197</td>\n",
       "      <td>0.922317</td>\n",
       "      <td>0.966983</td>\n",
       "      <td>0.912651</td>\n",
       "      <td>0.944343</td>\n",
       "      <td>0.893664</td>\n",
       "      <td>0.888084</td>\n",
       "      <td>0.905518</td>\n",
       "      <td>0.848597</td>\n",
       "      <td>0.938451</td>\n",
       "      <td>...</td>\n",
       "      <td>0.905016</td>\n",
       "      <td>0.941891</td>\n",
       "      <td>0.884138</td>\n",
       "      <td>0.955358</td>\n",
       "      <td>0.896884</td>\n",
       "      <td>0.839830</td>\n",
       "      <td>0.950464</td>\n",
       "      <td>0.876650</td>\n",
       "      <td>0.938584</td>\n",
       "      <td>0.963050</td>\n",
       "    </tr>\n",
       "  </tbody>\n",
       "</table>\n",
       "<p>5 rows × 2100 columns</p>\n",
       "</div>"
      ],
      "text/plain": [
       "               0         1         2         3         4         5     \\\n",
       "0.000000   0.997579  0.998035  0.999563  0.996945  0.998223  0.997653   \n",
       "20.277777  0.967984  0.979105  0.991418  0.975871  0.984753  0.971656   \n",
       "40.555554  0.938388  0.960176  0.983273  0.954798  0.971283  0.945659   \n",
       "60.833331  0.908793  0.941246  0.975128  0.933724  0.957813  0.919661   \n",
       "81.111108  0.879197  0.922317  0.966983  0.912651  0.944343  0.893664   \n",
       "\n",
       "               6         7         8         9     ...      2090      2091  \\\n",
       "0.000000   0.997600  0.997220  0.997604  0.998204  ...  0.997732  0.998275   \n",
       "20.277777  0.970221  0.974295  0.960352  0.983266  ...  0.974553  0.984179   \n",
       "40.555554  0.942842  0.951369  0.923100  0.968327  ...  0.951374  0.970083   \n",
       "60.833331  0.915463  0.928444  0.885848  0.953389  ...  0.928195  0.955987   \n",
       "81.111108  0.888084  0.905518  0.848597  0.938451  ...  0.905016  0.941891   \n",
       "\n",
       "               2092      2093      2094      2095      2096      2097  \\\n",
       "0.000000   0.997619  0.999228  0.997663  0.997608  0.998219  0.997458   \n",
       "20.277777  0.969249  0.988260  0.972468  0.958164  0.986280  0.967256   \n",
       "40.555554  0.940879  0.977293  0.947273  0.918719  0.974342  0.937054   \n",
       "60.833331  0.912508  0.966325  0.922079  0.879274  0.962403  0.906852   \n",
       "81.111108  0.884138  0.955358  0.896884  0.839830  0.950464  0.876650   \n",
       "\n",
       "               2098      2099  \n",
       "0.000000   0.997908  0.999074  \n",
       "20.277777  0.983077  0.990068  \n",
       "40.555554  0.968246  0.981062  \n",
       "60.833331  0.953415  0.972056  \n",
       "81.111108  0.938584  0.963050  \n",
       "\n",
       "[5 rows x 2100 columns]"
      ]
     },
     "execution_count": 23,
     "metadata": {},
     "output_type": "execute_result"
    }
   ],
   "source": [
    "surv.head()"
   ]
  },
  {
   "cell_type": "code",
   "execution_count": 36,
   "id": "390d4117",
   "metadata": {},
   "outputs": [
    {
     "name": "stdout",
     "output_type": "stream",
     "text": [
      "                 0         1         2         3         4         5     \\\n",
      "0.000000     0.998383  0.997845  0.998012  0.998593  0.999042  0.998661   \n",
      "68.922223    0.964116  0.955697  0.958159  0.967436  0.970000  0.968325   \n",
      "137.844446   0.929848  0.913550  0.918305  0.936279  0.940958  0.937990   \n",
      "206.766669   0.895580  0.871402  0.878451  0.905122  0.911916  0.907654   \n",
      "275.688892   0.861312  0.829255  0.838598  0.873964  0.882874  0.877318   \n",
      "...               ...       ...       ...       ...       ...       ...   \n",
      "5927.311133  0.116445  0.113378  0.114649  0.124454  0.122608  0.126353   \n",
      "5996.233350  0.107273  0.105993  0.106723  0.114007  0.111457  0.115461   \n",
      "6065.155566  0.098101  0.098609  0.098796  0.103559  0.100305  0.104569   \n",
      "6134.077783  0.088929  0.091224  0.090869  0.093112  0.089154  0.093676   \n",
      "6203.000000  0.079758  0.083840  0.082943  0.082664  0.078003  0.082784   \n",
      "\n",
      "                 6         7         8         9     ...      2090      2091  \\\n",
      "0.000000     0.998776  0.997185  0.998834  0.998158  ...  0.999271  0.998055   \n",
      "68.922223    0.970970  0.937915  0.968834  0.935045  ...  0.975939  0.959552   \n",
      "137.844446   0.943165  0.878646  0.938833  0.871932  ...  0.952608  0.921048   \n",
      "206.766669   0.915359  0.819376  0.908832  0.808820  ...  0.929276  0.882545   \n",
      "275.688892   0.887553  0.760107  0.878832  0.745707  ...  0.905944  0.844042   \n",
      "...               ...       ...       ...       ...  ...       ...       ...   \n",
      "5927.311133  0.134957  0.091073  0.123574  0.083932  ...  0.136784  0.112407   \n",
      "5996.233350  0.122497  0.087236  0.112770  0.080702  ...  0.122511  0.104454   \n",
      "6065.155566  0.110037  0.083398  0.101966  0.077473  ...  0.108238  0.096502   \n",
      "6134.077783  0.097576  0.079560  0.091162  0.074244  ...  0.093965  0.088550   \n",
      "6203.000000  0.085116  0.075722  0.080358  0.071015  ...  0.079692  0.080598   \n",
      "\n",
      "                 2092      2093      2094      2095      2096      2097  \\\n",
      "0.000000     0.997497  0.998170  0.998034  0.997913  0.998150  0.998452   \n",
      "68.922223    0.938961  0.960520  0.961856  0.960599  0.962424  0.963869   \n",
      "137.844446   0.880424  0.922870  0.925678  0.923285  0.926699  0.929285   \n",
      "206.766669   0.821888  0.885219  0.889500  0.885970  0.890973  0.894702   \n",
      "275.688892   0.763352  0.847569  0.853322  0.848656  0.855248  0.860118   \n",
      "...               ...       ...       ...       ...       ...       ...   \n",
      "5927.311133  0.093429  0.113241  0.121019  0.122514  0.115997  0.115016   \n",
      "5996.233350  0.089488  0.104964  0.111764  0.113604  0.107168  0.105889   \n",
      "6065.155566  0.085547  0.096688  0.102509  0.104694  0.098339  0.096762   \n",
      "6134.077783  0.081606  0.088412  0.093254  0.095784  0.089510  0.087635   \n",
      "6203.000000  0.077665  0.080136  0.083999  0.086874  0.080680  0.078508   \n",
      "\n",
      "                 2098      2099  \n",
      "0.000000     0.998237  0.998779  \n",
      "68.922223    0.960011  0.968990  \n",
      "137.844446   0.921784  0.939200  \n",
      "206.766669   0.883557  0.909411  \n",
      "275.688892   0.845330  0.879621  \n",
      "...               ...       ...  \n",
      "5927.311133  0.111902  0.127626  \n",
      "5996.233350  0.103683  0.116369  \n",
      "6065.155566  0.095464  0.105112  \n",
      "6134.077783  0.087244  0.093855  \n",
      "6203.000000  0.079025  0.082598  \n",
      "\n",
      "[91 rows x 2100 columns]\n"
     ]
    }
   ],
   "source": [
    "print(surv)"
   ]
  },
  {
   "cell_type": "code",
   "execution_count": null,
   "id": "b2f6316b",
   "metadata": {},
   "outputs": [],
   "source": []
  }
 ],
 "metadata": {
  "kernelspec": {
   "display_name": "Python 3 (ipykernel)",
   "language": "python",
   "name": "python3"
  },
  "language_info": {
   "codemirror_mode": {
    "name": "ipython",
    "version": 3
   },
   "file_extension": ".py",
   "mimetype": "text/x-python",
   "name": "python",
   "nbconvert_exporter": "python",
   "pygments_lexer": "ipython3",
   "version": "3.9.7"
  }
 },
 "nbformat": 4,
 "nbformat_minor": 5
}
